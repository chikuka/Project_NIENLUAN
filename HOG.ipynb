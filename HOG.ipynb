{
 "cells": [
  {
   "cell_type": "code",
   "execution_count": 23,
   "metadata": {},
   "outputs": [
    {
     "name": "stderr",
     "output_type": "stream",
     "text": [
      "C:\\Users\\Chikuka\\AppData\\Local\\Temp\\ipykernel_10368\\4039905107.py:21: VisibleDeprecationWarning: Creating an ndarray from ragged nested sequences (which is a list-or-tuple of lists-or-tuples-or ndarrays with different lengths or shapes) is deprecated. If you meant to do this, you must specify 'dtype=object' when creating the ndarray.\n",
      "  return np.array(features), np.array(labels)\n"
     ]
    }
   ],
   "source": [
    "import os\n",
    "import cv2\n",
    "import numpy as np\n",
    "from skimage.feature import hog\n",
    "\n",
    "def extract_features_and_labels(folder_path):\n",
    "    features = []\n",
    "    labels = []\n",
    "\n",
    "    for label in os.listdir(folder_path):\n",
    "        label_path = os.path.join(folder_path, label)\n",
    "        if os.path.isdir(label_path):\n",
    "            for filename in os.listdir(label_path):\n",
    "                image_path = os.path.join(label_path, filename)\n",
    "                image = cv2.imread(image_path)\n",
    "                if image is not None:\n",
    "                    hog_features = hog_descriptor(image)\n",
    "                    features.append(hog_features)\n",
    "                    labels.append(label)\n",
    "\n",
    "    return np.array(features), np.array(labels)\n",
    "\n",
    "def hog_descriptor(image):\n",
    "    if image.ndim > 2:\n",
    "        image = cv2.cvtColor(image, cv2.COLOR_BGR2GRAY)\n",
    "    return hog(image, orientations=9, pixels_per_cell=(8, 8), cells_per_block=(2, 2), visualize=False)\n",
    "\n",
    "\n",
    "folder_path = 'D:/STUDY/PROJECT/HinhAnh/'\n",
    "features, labels = extract_features_and_labels(folder_path)\n",
    "\n",
    "# Lưu các đặc trưng và nhãn vào các tập tin npy\n",
    "np.save('hog_features.npy', features)\n",
    "np.save('labels.npy', labels)\n"
   ]
  },
  {
   "cell_type": "code",
   "execution_count": 9,
   "metadata": {},
   "outputs": [
    {
     "name": "stdout",
     "output_type": "stream",
     "text": [
      "Accuracy: 0.543859649122807\n"
     ]
    }
   ],
   "source": [
    "import os\n",
    "import cv2\n",
    "import numpy as np\n",
    "from sklearn.model_selection import train_test_split\n",
    "from sklearn.svm import SVC\n",
    "from skimage.feature import hog\n",
    "from skimage import exposure\n",
    "\n",
    "def extract_hog_features(image):\n",
    "    # Convert the image to grayscale\n",
    "    gray = cv2.cvtColor(image, cv2.COLOR_BGR2GRAY)\n",
    "    # Apply HOG descriptor\n",
    "    fd, hog_image = hog(gray, orientations=9, pixels_per_cell=(8, 8),\n",
    "                        cells_per_block=(2, 2), visualize=True, block_norm='L2-Hys')\n",
    "    # Rescale HOG features\n",
    "    hog_image_rescaled = exposure.rescale_intensity(hog_image, in_range=(0, 10))\n",
    "    return fd\n",
    "\n",
    "def extract_features_and_labels(folder_path):\n",
    "    features = []\n",
    "    labels = []\n",
    "    label_mapping = {}  # To store a mapping between folder names and labels\n",
    "    label_counter = 0\n",
    "\n",
    "    for label_folder in os.listdir(folder_path):\n",
    "        label_path = os.path.join(folder_path, label_folder)\n",
    "        if os.path.isdir(label_path):\n",
    "            # Try to convert the folder name to an integer label\n",
    "            try:\n",
    "                label = int(label_folder)\n",
    "            except ValueError:\n",
    "                # If conversion fails, assign a unique label\n",
    "                label = label_counter\n",
    "                label_counter += 1\n",
    "            label_mapping[label] = label_folder\n",
    "\n",
    "            for image_name in os.listdir(label_path):\n",
    "                image_path = os.path.join(label_path, image_name)\n",
    "                image = cv2.imread(image_path)\n",
    "                if image is not None:\n",
    "                    # Resize the image to a consistent size\n",
    "                    resized_image = cv2.resize(image, (128, 128))  # Adjust the size as needed\n",
    "                    hog_features = extract_hog_features(resized_image)\n",
    "                    features.append(hog_features)\n",
    "                    labels.append(label)\n",
    "\n",
    "    return np.array(features), np.array(labels), label_mapping\n",
    "\n",
    "# Example usage:\n",
    "folder_path = 'D:/STUDY/PROJECT/HinhAnh/'\n",
    "X, y, label_mapping = extract_features_and_labels(folder_path)\n",
    "\n",
    "# Split the data into training and testing sets\n",
    "X_train, X_test, y_train, y_test = train_test_split(X, y, test_size=0.2, random_state=42)\n",
    "\n",
    "# Initialize and train the SVM model\n",
    "svm_model = SVC(kernel='linear')\n",
    "svm_model.fit(X_train, y_train)\n",
    "\n",
    "# Evaluate the model\n",
    "accuracy = svm_model.score(X_test, y_test)\n",
    "print(\"Accuracy:\", accuracy)\n",
    "\n",
    "# Predict labels for test data\n",
    "y_pred = svm_model.predict(X_test)\n",
    "\n",
    "# Optionally, you can use the label mapping to interpret the predicted labels\n",
    "# predicted_labels = [label_mapping[label] for label in y_pred]\n",
    "# print(\"Predicted labels:\", predicted_labels)\n"
   ]
  }
 ],
 "metadata": {
  "kernelspec": {
   "display_name": "Python 3",
   "language": "python",
   "name": "python3"
  },
  "language_info": {
   "codemirror_mode": {
    "name": "ipython",
    "version": 3
   },
   "file_extension": ".py",
   "mimetype": "text/x-python",
   "name": "python",
   "nbconvert_exporter": "python",
   "pygments_lexer": "ipython3",
   "version": "3.11.2"
  }
 },
 "nbformat": 4,
 "nbformat_minor": 2
}
